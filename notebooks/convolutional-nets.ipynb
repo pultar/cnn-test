{
 "cells": [
  {
   "cell_type": "code",
   "execution_count": null,
   "id": "initial_id",
   "metadata": {
    "collapsed": true
   },
   "outputs": [],
   "source": [
    "import numpy as np\n",
    "import tensorflow as tf\n",
    "import tensorflow.keras as keras\n",
    "from sklearn.datasets import load_sample_images"
   ]
  },
  {
   "cell_type": "code",
   "outputs": [],
   "source": [
    "images = load_sample_images()[\"images\"]\n",
    "images = keras.layers.CenterCrop(height=70, width=120)(images)\n",
    "images = keras.layers.Rescaling(scale = 1 / 255)(images)"
   ],
   "metadata": {
    "collapsed": false
   },
   "id": "8845c91fece9087f",
   "execution_count": null
  },
  {
   "cell_type": "code",
   "outputs": [],
   "source": [
    "images.shape # (2 sample images, 70 height, 120 width, 3 color channels)"
   ],
   "metadata": {
    "collapsed": false
   },
   "id": "27fb542294136dc0",
   "execution_count": null
  },
  {
   "cell_type": "code",
   "outputs": [],
   "source": [
    "conv_layer1 = keras.layers.Conv2D(filters=32, kernel_size=(7, 7))\n",
    "fmaps = conv_layer1(images)"
   ],
   "metadata": {
    "collapsed": false
   },
   "id": "74153917d3e7f3",
   "execution_count": null
  },
  {
   "cell_type": "code",
   "outputs": [],
   "source": [
    "fmaps.shape # (2 images, 64 height, 114 width, 32 channels) -> shrinking because padding / \"valid\" is default"
   ],
   "metadata": {
    "collapsed": false
   },
   "id": "4644d02d72753f0d",
   "execution_count": null
  },
  {
   "cell_type": "code",
   "outputs": [],
   "source": [
    "conv_layer2 = keras.layers.Conv2D(filters=32, kernel_size=(7, 7), padding=\"same\")\n",
    "fmaps = conv_layer2(images)"
   ],
   "metadata": {
    "collapsed": false
   },
   "id": "9e687c84b34b3b6b",
   "execution_count": null
  },
  {
   "cell_type": "code",
   "outputs": [],
   "source": [
    "fmaps.shape"
   ],
   "metadata": {
    "collapsed": false
   },
   "id": "8cdb1b603169a619",
   "execution_count": null
  },
  {
   "cell_type": "code",
   "outputs": [],
   "source": [
    "kernels, weights = conv_layer1.get_weights()\n",
    "kernels.shape, weights.shape # (kernel height, kernel width, input channels, output channels)"
   ],
   "metadata": {
    "collapsed": false
   },
   "id": "c8ba7c8f42c7c87d",
   "execution_count": null
  },
  {
   "cell_type": "code",
   "outputs": [],
   "source": [
    "max_pool = keras.layers.MaxPool2D(pool_size=(2, 2))\n",
    "max_pool.strides"
   ],
   "metadata": {
    "collapsed": false
   },
   "id": "46d19e03547b5875",
   "execution_count": null
  },
  {
   "cell_type": "code",
   "outputs": [],
   "source": [
    "pooled = max_pool(fmaps)\n",
    "fmaps.shape, pooled.shape"
   ],
   "metadata": {
    "collapsed": false
   },
   "id": "a86146c47d219ea4",
   "execution_count": null
  },
  {
   "cell_type": "code",
   "outputs": [],
   "source": [
    "from functools import partial\n",
    "\n",
    "DefaultConv2D = partial(keras.layers.Conv2D, kernel_size=(3, 3), padding=\"same\", activation=\"relu\", kernel_initializer=\"he_normal\")\n",
    "model = keras.Sequential([\n",
    "    DefaultConv2D(filters=64, kernel_size=(7, 7), input_shape=[28, 28, 1]),\n",
    "    keras.layers.MaxPool2D(),\n",
    "    DefaultConv2D(filters=128),\n",
    "    DefaultConv2D(filters=128),\n",
    "    keras.layers.MaxPool2D(),\n",
    "    DefaultConv2D(filters=256),\n",
    "    DefaultConv2D(filters=256),\n",
    "    keras.layers.MaxPool2D(),\n",
    "    keras.layers.Flatten(),\n",
    "    keras.layers.Dense(units=128, activation=\"relu\", kernel_initializer=\"he_normal\"),\n",
    "    keras.layers.Dropout(0.5),\n",
    "    keras.layers.Dense(units=64, activation=\"relu\", kernel_initializer=\"he_normal\"),\n",
    "    keras.layers.Dropout(0.5),\n",
    "    keras.layers.Dense(units=10, activation=\"softmax\")\n",
    "])"
   ],
   "metadata": {
    "collapsed": false
   },
   "id": "df73928dc2f66e68",
   "execution_count": null
  },
  {
   "cell_type": "code",
   "outputs": [],
   "source": [
    "(X_train, y_train), (X_test, y_test) = keras.datasets.fashion_mnist.load_data()\n",
    "X_train, X_test = X_train / 255.0, X_test / 255.0\n",
    "X_train, X_test = X_train.reshape(60000, 28, 28, 1), X_test.reshape(10000, 28, 28, 1)\n",
    "X_train.shape, X_test.shape"
   ],
   "metadata": {
    "collapsed": false
   },
   "id": "defddee99267a724",
   "execution_count": null
  },
  {
   "cell_type": "code",
   "outputs": [],
   "source": [
    "model.compile(loss=\"sparse_categorical_crossentropy\", optimizer=\"nadam\", metrics=[\"accuracy\"])"
   ],
   "metadata": {
    "collapsed": false
   },
   "id": "419499e35e2cb6b8",
   "execution_count": null
  },
  {
   "cell_type": "code",
   "outputs": [],
   "source": [
    "%%time\n",
    "model.fit(X_train, y_train, validation_split=0.05, epochs=10, batch_size=32)"
   ],
   "metadata": {
    "collapsed": false
   },
   "id": "3e057007fb48af90",
   "execution_count": null
  },
  {
   "cell_type": "code",
   "outputs": [],
   "source": [
    "%%time\n",
    "model.evaluate(X_test, y_test)"
   ],
   "metadata": {
    "collapsed": false
   },
   "id": "96be2a68ba2fe355",
   "execution_count": null
  },
  {
   "cell_type": "code",
   "outputs": [],
   "source": [],
   "metadata": {
    "collapsed": false
   },
   "id": "50bdcb521f96d106"
  }
 ],
 "metadata": {
  "kernelspec": {
   "display_name": "Python 3",
   "language": "python",
   "name": "python3"
  },
  "language_info": {
   "codemirror_mode": {
    "name": "ipython",
    "version": 2
   },
   "file_extension": ".py",
   "mimetype": "text/x-python",
   "name": "python",
   "nbconvert_exporter": "python",
   "pygments_lexer": "ipython2",
   "version": "2.7.6"
  }
 },
 "nbformat": 4,
 "nbformat_minor": 5
}
